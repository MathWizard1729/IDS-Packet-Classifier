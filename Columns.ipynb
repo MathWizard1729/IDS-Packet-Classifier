{
 "cells": [
  {
   "cell_type": "code",
   "execution_count": 1,
   "id": "e213685c-c825-463c-92f3-5910e7aa181a",
   "metadata": {},
   "outputs": [
    {
     "name": "stdout",
     "output_type": "stream",
     "text": [
      "Defaulting to user installation because normal site-packages is not writeable\n",
      "Collecting jupyterthemes\n",
      "  Downloading jupyterthemes-0.20.0-py2.py3-none-any.whl (7.0 MB)\n",
      "\u001b[2K     \u001b[38;2;114;156;31m━━━━━━━━━━━━━━━━━━━━━━━━━━━━━━━━━━━━━━━━\u001b[0m \u001b[32m7.0/7.0 MB\u001b[0m \u001b[31m4.4 MB/s\u001b[0m eta \u001b[36m0:00:00\u001b[0mm eta \u001b[36m0:00:01\u001b[0m[36m0:00:01\u001b[0m\n",
      "\u001b[?25hRequirement already satisfied: notebook>=5.6.0 in /home/shivek/.local/lib/python3.10/site-packages (from jupyterthemes) (7.2.2)\n",
      "Requirement already satisfied: matplotlib>=1.4.3 in /usr/lib/python3/dist-packages (from jupyterthemes) (3.5.1)\n",
      "Requirement already satisfied: jupyter-core in /home/shivek/.local/lib/python3.10/site-packages (from jupyterthemes) (5.7.2)\n",
      "Requirement already satisfied: ipython>=5.4.1 in /home/shivek/.local/lib/python3.10/site-packages (from jupyterthemes) (8.27.0)\n",
      "Collecting lesscpy>=0.11.2\n",
      "  Downloading lesscpy-0.15.1-py2.py3-none-any.whl (46 kB)\n",
      "\u001b[2K     \u001b[38;2;114;156;31m━━━━━━━━━━━━━━━━━━━━━━━━━━━━━━━━━━━━━━━━\u001b[0m \u001b[32m46.7/46.7 KB\u001b[0m \u001b[31m8.2 MB/s\u001b[0m eta \u001b[36m0:00:00\u001b[0m\n",
      "\u001b[?25hRequirement already satisfied: typing-extensions>=4.6 in /home/shivek/.local/lib/python3.10/site-packages (from ipython>=5.4.1->jupyterthemes) (4.12.2)\n",
      "Requirement already satisfied: decorator in /home/shivek/.local/lib/python3.10/site-packages (from ipython>=5.4.1->jupyterthemes) (5.1.1)\n",
      "Requirement already satisfied: traitlets>=5.13.0 in /home/shivek/.local/lib/python3.10/site-packages (from ipython>=5.4.1->jupyterthemes) (5.14.3)\n",
      "Requirement already satisfied: prompt-toolkit<3.1.0,>=3.0.41 in /home/shivek/.local/lib/python3.10/site-packages (from ipython>=5.4.1->jupyterthemes) (3.0.47)\n",
      "Requirement already satisfied: matplotlib-inline in /home/shivek/.local/lib/python3.10/site-packages (from ipython>=5.4.1->jupyterthemes) (0.1.7)\n",
      "Requirement already satisfied: pygments>=2.4.0 in /home/shivek/.local/lib/python3.10/site-packages (from ipython>=5.4.1->jupyterthemes) (2.18.0)\n",
      "Requirement already satisfied: stack-data in /home/shivek/.local/lib/python3.10/site-packages (from ipython>=5.4.1->jupyterthemes) (0.6.3)\n",
      "Requirement already satisfied: pexpect>4.3 in /usr/lib/python3/dist-packages (from ipython>=5.4.1->jupyterthemes) (4.8.0)\n",
      "Requirement already satisfied: jedi>=0.16 in /home/shivek/.local/lib/python3.10/site-packages (from ipython>=5.4.1->jupyterthemes) (0.19.1)\n",
      "Requirement already satisfied: exceptiongroup in /home/shivek/.local/lib/python3.10/site-packages (from ipython>=5.4.1->jupyterthemes) (1.2.2)\n",
      "Requirement already satisfied: ply in /usr/lib/python3/dist-packages (from lesscpy>=0.11.2->jupyterthemes) (3.11)\n",
      "Requirement already satisfied: tornado>=6.2.0 in /home/shivek/.local/lib/python3.10/site-packages (from notebook>=5.6.0->jupyterthemes) (6.4.1)\n",
      "Requirement already satisfied: notebook-shim<0.3,>=0.2 in /home/shivek/.local/lib/python3.10/site-packages (from notebook>=5.6.0->jupyterthemes) (0.2.4)\n",
      "Requirement already satisfied: jupyterlab<4.3,>=4.2.0 in /home/shivek/.local/lib/python3.10/site-packages (from notebook>=5.6.0->jupyterthemes) (4.2.5)\n",
      "Requirement already satisfied: jupyter-server<3,>=2.4.0 in /home/shivek/.local/lib/python3.10/site-packages (from notebook>=5.6.0->jupyterthemes) (2.14.2)\n",
      "Requirement already satisfied: jupyterlab-server<3,>=2.27.1 in /home/shivek/.local/lib/python3.10/site-packages (from notebook>=5.6.0->jupyterthemes) (2.27.3)\n",
      "Requirement already satisfied: platformdirs>=2.5 in /home/shivek/.local/lib/python3.10/site-packages (from jupyter-core->jupyterthemes) (4.3.3)\n",
      "Requirement already satisfied: parso<0.9.0,>=0.8.3 in /home/shivek/.local/lib/python3.10/site-packages (from jedi>=0.16->ipython>=5.4.1->jupyterthemes) (0.8.4)\n",
      "Requirement already satisfied: pyzmq>=24 in /home/shivek/.local/lib/python3.10/site-packages (from jupyter-server<3,>=2.4.0->notebook>=5.6.0->jupyterthemes) (26.2.0)\n",
      "Requirement already satisfied: argon2-cffi>=21.1 in /home/shivek/.local/lib/python3.10/site-packages (from jupyter-server<3,>=2.4.0->notebook>=5.6.0->jupyterthemes) (23.1.0)\n",
      "Requirement already satisfied: jupyter-client>=7.4.4 in /home/shivek/.local/lib/python3.10/site-packages (from jupyter-server<3,>=2.4.0->notebook>=5.6.0->jupyterthemes) (8.6.2)\n",
      "Requirement already satisfied: anyio>=3.1.0 in /home/shivek/.local/lib/python3.10/site-packages (from jupyter-server<3,>=2.4.0->notebook>=5.6.0->jupyterthemes) (4.4.0)\n",
      "Requirement already satisfied: websocket-client>=1.7 in /home/shivek/.local/lib/python3.10/site-packages (from jupyter-server<3,>=2.4.0->notebook>=5.6.0->jupyterthemes) (1.8.0)\n",
      "Requirement already satisfied: packaging>=22.0 in /home/shivek/.local/lib/python3.10/site-packages (from jupyter-server<3,>=2.4.0->notebook>=5.6.0->jupyterthemes) (24.1)\n",
      "Requirement already satisfied: prometheus-client>=0.9 in /home/shivek/.local/lib/python3.10/site-packages (from jupyter-server<3,>=2.4.0->notebook>=5.6.0->jupyterthemes) (0.20.0)\n",
      "Requirement already satisfied: terminado>=0.8.3 in /home/shivek/.local/lib/python3.10/site-packages (from jupyter-server<3,>=2.4.0->notebook>=5.6.0->jupyterthemes) (0.18.1)\n",
      "Requirement already satisfied: overrides>=5.0 in /home/shivek/.local/lib/python3.10/site-packages (from jupyter-server<3,>=2.4.0->notebook>=5.6.0->jupyterthemes) (7.7.0)\n",
      "Requirement already satisfied: nbconvert>=6.4.4 in /home/shivek/.local/lib/python3.10/site-packages (from jupyter-server<3,>=2.4.0->notebook>=5.6.0->jupyterthemes) (7.16.4)\n",
      "Requirement already satisfied: send2trash>=1.8.2 in /home/shivek/.local/lib/python3.10/site-packages (from jupyter-server<3,>=2.4.0->notebook>=5.6.0->jupyterthemes) (1.8.3)\n",
      "Requirement already satisfied: jinja2>=3.0.3 in /home/shivek/.local/lib/python3.10/site-packages (from jupyter-server<3,>=2.4.0->notebook>=5.6.0->jupyterthemes) (3.1.4)\n",
      "Requirement already satisfied: jupyter-events>=0.9.0 in /home/shivek/.local/lib/python3.10/site-packages (from jupyter-server<3,>=2.4.0->notebook>=5.6.0->jupyterthemes) (0.10.0)\n",
      "Requirement already satisfied: jupyter-server-terminals>=0.4.4 in /home/shivek/.local/lib/python3.10/site-packages (from jupyter-server<3,>=2.4.0->notebook>=5.6.0->jupyterthemes) (0.5.3)\n",
      "Requirement already satisfied: nbformat>=5.3.0 in /home/shivek/.local/lib/python3.10/site-packages (from jupyter-server<3,>=2.4.0->notebook>=5.6.0->jupyterthemes) (5.10.4)\n",
      "Requirement already satisfied: tomli>=1.2.2 in /home/shivek/.local/lib/python3.10/site-packages (from jupyterlab<4.3,>=4.2.0->notebook>=5.6.0->jupyterthemes) (2.0.1)\n",
      "Requirement already satisfied: async-lru>=1.0.0 in /home/shivek/.local/lib/python3.10/site-packages (from jupyterlab<4.3,>=4.2.0->notebook>=5.6.0->jupyterthemes) (2.0.4)\n",
      "Requirement already satisfied: ipykernel>=6.5.0 in /home/shivek/.local/lib/python3.10/site-packages (from jupyterlab<4.3,>=4.2.0->notebook>=5.6.0->jupyterthemes) (6.29.5)\n",
      "Requirement already satisfied: setuptools>=40.1.0 in /usr/lib/python3/dist-packages (from jupyterlab<4.3,>=4.2.0->notebook>=5.6.0->jupyterthemes) (59.6.0)\n",
      "Requirement already satisfied: httpx>=0.25.0 in /home/shivek/.local/lib/python3.10/site-packages (from jupyterlab<4.3,>=4.2.0->notebook>=5.6.0->jupyterthemes) (0.27.2)\n",
      "Requirement already satisfied: jupyter-lsp>=2.0.0 in /home/shivek/.local/lib/python3.10/site-packages (from jupyterlab<4.3,>=4.2.0->notebook>=5.6.0->jupyterthemes) (2.2.5)\n",
      "Requirement already satisfied: requests>=2.31 in /home/shivek/.local/lib/python3.10/site-packages (from jupyterlab-server<3,>=2.27.1->notebook>=5.6.0->jupyterthemes) (2.32.3)\n",
      "Requirement already satisfied: json5>=0.9.0 in /home/shivek/.local/lib/python3.10/site-packages (from jupyterlab-server<3,>=2.27.1->notebook>=5.6.0->jupyterthemes) (0.9.25)\n",
      "Requirement already satisfied: babel>=2.10 in /home/shivek/.local/lib/python3.10/site-packages (from jupyterlab-server<3,>=2.27.1->notebook>=5.6.0->jupyterthemes) (2.16.0)\n",
      "Requirement already satisfied: jsonschema>=4.18.0 in /home/shivek/.local/lib/python3.10/site-packages (from jupyterlab-server<3,>=2.27.1->notebook>=5.6.0->jupyterthemes) (4.23.0)\n",
      "Requirement already satisfied: wcwidth in /home/shivek/.local/lib/python3.10/site-packages (from prompt-toolkit<3.1.0,>=3.0.41->ipython>=5.4.1->jupyterthemes) (0.2.13)\n",
      "Requirement already satisfied: pure-eval in /home/shivek/.local/lib/python3.10/site-packages (from stack-data->ipython>=5.4.1->jupyterthemes) (0.2.3)\n",
      "Requirement already satisfied: asttokens>=2.1.0 in /home/shivek/.local/lib/python3.10/site-packages (from stack-data->ipython>=5.4.1->jupyterthemes) (2.4.1)\n",
      "Requirement already satisfied: executing>=1.2.0 in /home/shivek/.local/lib/python3.10/site-packages (from stack-data->ipython>=5.4.1->jupyterthemes) (2.1.0)\n",
      "Requirement already satisfied: idna>=2.8 in /usr/lib/python3/dist-packages (from anyio>=3.1.0->jupyter-server<3,>=2.4.0->notebook>=5.6.0->jupyterthemes) (3.3)\n",
      "Requirement already satisfied: sniffio>=1.1 in /home/shivek/.local/lib/python3.10/site-packages (from anyio>=3.1.0->jupyter-server<3,>=2.4.0->notebook>=5.6.0->jupyterthemes) (1.3.1)\n",
      "Requirement already satisfied: argon2-cffi-bindings in /home/shivek/.local/lib/python3.10/site-packages (from argon2-cffi>=21.1->jupyter-server<3,>=2.4.0->notebook>=5.6.0->jupyterthemes) (21.2.0)\n",
      "Requirement already satisfied: six>=1.12.0 in /usr/lib/python3/dist-packages (from asttokens>=2.1.0->stack-data->ipython>=5.4.1->jupyterthemes) (1.16.0)\n",
      "Requirement already satisfied: httpcore==1.* in /home/shivek/.local/lib/python3.10/site-packages (from httpx>=0.25.0->jupyterlab<4.3,>=4.2.0->notebook>=5.6.0->jupyterthemes) (1.0.5)\n",
      "Requirement already satisfied: certifi in /usr/lib/python3/dist-packages (from httpx>=0.25.0->jupyterlab<4.3,>=4.2.0->notebook>=5.6.0->jupyterthemes) (2020.6.20)\n",
      "Requirement already satisfied: h11<0.15,>=0.13 in /home/shivek/.local/lib/python3.10/site-packages (from httpcore==1.*->httpx>=0.25.0->jupyterlab<4.3,>=4.2.0->notebook>=5.6.0->jupyterthemes) (0.14.0)\n",
      "Requirement already satisfied: comm>=0.1.1 in /home/shivek/.local/lib/python3.10/site-packages (from ipykernel>=6.5.0->jupyterlab<4.3,>=4.2.0->notebook>=5.6.0->jupyterthemes) (0.2.2)\n",
      "Requirement already satisfied: nest-asyncio in /home/shivek/.local/lib/python3.10/site-packages (from ipykernel>=6.5.0->jupyterlab<4.3,>=4.2.0->notebook>=5.6.0->jupyterthemes) (1.6.0)\n",
      "Requirement already satisfied: debugpy>=1.6.5 in /home/shivek/.local/lib/python3.10/site-packages (from ipykernel>=6.5.0->jupyterlab<4.3,>=4.2.0->notebook>=5.6.0->jupyterthemes) (1.8.5)\n",
      "Requirement already satisfied: psutil in /usr/lib/python3/dist-packages (from ipykernel>=6.5.0->jupyterlab<4.3,>=4.2.0->notebook>=5.6.0->jupyterthemes) (5.9.0)\n",
      "Requirement already satisfied: MarkupSafe>=2.0 in /home/shivek/.local/lib/python3.10/site-packages (from jinja2>=3.0.3->jupyter-server<3,>=2.4.0->notebook>=5.6.0->jupyterthemes) (2.1.5)\n",
      "Requirement already satisfied: referencing>=0.28.4 in /home/shivek/.local/lib/python3.10/site-packages (from jsonschema>=4.18.0->jupyterlab-server<3,>=2.27.1->notebook>=5.6.0->jupyterthemes) (0.35.1)\n",
      "Requirement already satisfied: jsonschema-specifications>=2023.03.6 in /home/shivek/.local/lib/python3.10/site-packages (from jsonschema>=4.18.0->jupyterlab-server<3,>=2.27.1->notebook>=5.6.0->jupyterthemes) (2023.12.1)\n",
      "Requirement already satisfied: attrs>=22.2.0 in /home/shivek/.local/lib/python3.10/site-packages (from jsonschema>=4.18.0->jupyterlab-server<3,>=2.27.1->notebook>=5.6.0->jupyterthemes) (24.2.0)\n",
      "Requirement already satisfied: rpds-py>=0.7.1 in /home/shivek/.local/lib/python3.10/site-packages (from jsonschema>=4.18.0->jupyterlab-server<3,>=2.27.1->notebook>=5.6.0->jupyterthemes) (0.20.0)\n",
      "Requirement already satisfied: python-dateutil>=2.8.2 in /home/shivek/.local/lib/python3.10/site-packages (from jupyter-client>=7.4.4->jupyter-server<3,>=2.4.0->notebook>=5.6.0->jupyterthemes) (2.9.0.post0)\n",
      "Requirement already satisfied: pyyaml>=5.3 in /usr/lib/python3/dist-packages (from jupyter-events>=0.9.0->jupyter-server<3,>=2.4.0->notebook>=5.6.0->jupyterthemes) (5.4.1)\n",
      "Requirement already satisfied: python-json-logger>=2.0.4 in /home/shivek/.local/lib/python3.10/site-packages (from jupyter-events>=0.9.0->jupyter-server<3,>=2.4.0->notebook>=5.6.0->jupyterthemes) (2.0.7)\n",
      "Requirement already satisfied: rfc3339-validator in /home/shivek/.local/lib/python3.10/site-packages (from jupyter-events>=0.9.0->jupyter-server<3,>=2.4.0->notebook>=5.6.0->jupyterthemes) (0.1.4)\n",
      "Requirement already satisfied: rfc3986-validator>=0.1.1 in /home/shivek/.local/lib/python3.10/site-packages (from jupyter-events>=0.9.0->jupyter-server<3,>=2.4.0->notebook>=5.6.0->jupyterthemes) (0.1.1)\n",
      "Requirement already satisfied: mistune<4,>=2.0.3 in /home/shivek/.local/lib/python3.10/site-packages (from nbconvert>=6.4.4->jupyter-server<3,>=2.4.0->notebook>=5.6.0->jupyterthemes) (3.0.2)\n",
      "Requirement already satisfied: pandocfilters>=1.4.1 in /home/shivek/.local/lib/python3.10/site-packages (from nbconvert>=6.4.4->jupyter-server<3,>=2.4.0->notebook>=5.6.0->jupyterthemes) (1.5.1)\n",
      "Requirement already satisfied: bleach!=5.0.0 in /home/shivek/.local/lib/python3.10/site-packages (from nbconvert>=6.4.4->jupyter-server<3,>=2.4.0->notebook>=5.6.0->jupyterthemes) (6.1.0)\n",
      "Requirement already satisfied: nbclient>=0.5.0 in /home/shivek/.local/lib/python3.10/site-packages (from nbconvert>=6.4.4->jupyter-server<3,>=2.4.0->notebook>=5.6.0->jupyterthemes) (0.10.0)\n",
      "Requirement already satisfied: defusedxml in /home/shivek/.local/lib/python3.10/site-packages (from nbconvert>=6.4.4->jupyter-server<3,>=2.4.0->notebook>=5.6.0->jupyterthemes) (0.7.1)\n",
      "Requirement already satisfied: tinycss2 in /home/shivek/.local/lib/python3.10/site-packages (from nbconvert>=6.4.4->jupyter-server<3,>=2.4.0->notebook>=5.6.0->jupyterthemes) (1.3.0)\n",
      "Requirement already satisfied: jupyterlab-pygments in /home/shivek/.local/lib/python3.10/site-packages (from nbconvert>=6.4.4->jupyter-server<3,>=2.4.0->notebook>=5.6.0->jupyterthemes) (0.3.0)\n",
      "Requirement already satisfied: beautifulsoup4 in /usr/lib/python3/dist-packages (from nbconvert>=6.4.4->jupyter-server<3,>=2.4.0->notebook>=5.6.0->jupyterthemes) (4.10.0)\n",
      "Requirement already satisfied: fastjsonschema>=2.15 in /home/shivek/.local/lib/python3.10/site-packages (from nbformat>=5.3.0->jupyter-server<3,>=2.4.0->notebook>=5.6.0->jupyterthemes) (2.20.0)\n",
      "Requirement already satisfied: urllib3<3,>=1.21.1 in /usr/lib/python3/dist-packages (from requests>=2.31->jupyterlab-server<3,>=2.27.1->notebook>=5.6.0->jupyterthemes) (1.26.5)\n",
      "Requirement already satisfied: charset-normalizer<4,>=2 in /home/shivek/.local/lib/python3.10/site-packages (from requests>=2.31->jupyterlab-server<3,>=2.27.1->notebook>=5.6.0->jupyterthemes) (3.3.2)\n",
      "Requirement already satisfied: ptyprocess in /usr/lib/python3/dist-packages (from terminado>=0.8.3->jupyter-server<3,>=2.4.0->notebook>=5.6.0->jupyterthemes) (0.7.0)\n",
      "Requirement already satisfied: webencodings in /usr/lib/python3/dist-packages (from bleach!=5.0.0->nbconvert>=6.4.4->jupyter-server<3,>=2.4.0->notebook>=5.6.0->jupyterthemes) (0.5.1)\n",
      "Requirement already satisfied: jsonpointer>1.13 in /home/shivek/.local/lib/python3.10/site-packages (from jsonschema>=4.18.0->jupyterlab-server<3,>=2.27.1->notebook>=5.6.0->jupyterthemes) (3.0.0)\n",
      "Requirement already satisfied: fqdn in /home/shivek/.local/lib/python3.10/site-packages (from jsonschema>=4.18.0->jupyterlab-server<3,>=2.27.1->notebook>=5.6.0->jupyterthemes) (1.5.1)\n",
      "Requirement already satisfied: webcolors>=24.6.0 in /home/shivek/.local/lib/python3.10/site-packages (from jsonschema>=4.18.0->jupyterlab-server<3,>=2.27.1->notebook>=5.6.0->jupyterthemes) (24.8.0)\n",
      "Requirement already satisfied: isoduration in /home/shivek/.local/lib/python3.10/site-packages (from jsonschema>=4.18.0->jupyterlab-server<3,>=2.27.1->notebook>=5.6.0->jupyterthemes) (20.11.0)\n",
      "Requirement already satisfied: uri-template in /home/shivek/.local/lib/python3.10/site-packages (from jsonschema>=4.18.0->jupyterlab-server<3,>=2.27.1->notebook>=5.6.0->jupyterthemes) (1.3.0)\n",
      "Requirement already satisfied: cffi>=1.0.1 in /home/shivek/.local/lib/python3.10/site-packages (from argon2-cffi-bindings->argon2-cffi>=21.1->jupyter-server<3,>=2.4.0->notebook>=5.6.0->jupyterthemes) (1.17.1)\n",
      "Requirement already satisfied: pycparser in /home/shivek/.local/lib/python3.10/site-packages (from cffi>=1.0.1->argon2-cffi-bindings->argon2-cffi>=21.1->jupyter-server<3,>=2.4.0->notebook>=5.6.0->jupyterthemes) (2.22)\n",
      "Requirement already satisfied: arrow>=0.15.0 in /home/shivek/.local/lib/python3.10/site-packages (from isoduration->jsonschema>=4.18.0->jupyterlab-server<3,>=2.27.1->notebook>=5.6.0->jupyterthemes) (1.3.0)\n",
      "Requirement already satisfied: types-python-dateutil>=2.8.10 in /home/shivek/.local/lib/python3.10/site-packages (from arrow>=0.15.0->isoduration->jsonschema>=4.18.0->jupyterlab-server<3,>=2.27.1->notebook>=5.6.0->jupyterthemes) (2.9.0.20240906)\n",
      "Installing collected packages: lesscpy, jupyterthemes\n",
      "Successfully installed jupyterthemes-0.20.0 lesscpy-0.15.1\n",
      "Note: you may need to restart the kernel to use updated packages.\n"
     ]
    }
   ],
   "source": [
    "pip install jupyterthemes"
   ]
  },
  {
   "cell_type": "code",
   "execution_count": 1,
   "id": "b25b9a0f-d926-4db0-9f5d-5331edbd0bba",
   "metadata": {},
   "outputs": [
    {
     "name": "stdout",
     "output_type": "stream",
     "text": [
      "Available Themes: \n",
      "   chesterish\n",
      "   grade3\n",
      "   gruvboxd\n",
      "   gruvboxl\n",
      "   monokai\n",
      "   oceans16\n",
      "   onedork\n",
      "   solarizedd\n",
      "   solarizedl\n"
     ]
    }
   ],
   "source": [
    "!jt -l"
   ]
  },
  {
   "cell_type": "code",
   "execution_count": 2,
   "id": "c60fe36f-eccd-4e96-9856-08fcfb78e83a",
   "metadata": {},
   "outputs": [],
   "source": [
    "!jt -t solarizedd"
   ]
  },
  {
   "cell_type": "code",
   "execution_count": 3,
   "id": "1249b30d-47a5-41df-9efa-61ca5fadb94b",
   "metadata": {},
   "outputs": [
    {
     "name": "stdout",
     "output_type": "stream",
     "text": [
      "hello\n"
     ]
    }
   ],
   "source": [
    "print('hello')"
   ]
  },
  {
   "cell_type": "code",
   "execution_count": null,
   "id": "477c7053-510d-4e5c-981e-9504b6e99362",
   "metadata": {},
   "outputs": [],
   "source": []
  }
 ],
 "metadata": {
  "kernelspec": {
   "display_name": "Python 3 (ipykernel)",
   "language": "python",
   "name": "python3"
  },
  "language_info": {
   "codemirror_mode": {
    "name": "ipython",
    "version": 3
   },
   "file_extension": ".py",
   "mimetype": "text/x-python",
   "name": "python",
   "nbconvert_exporter": "python",
   "pygments_lexer": "ipython3",
   "version": "3.10.12"
  }
 },
 "nbformat": 4,
 "nbformat_minor": 5
}
