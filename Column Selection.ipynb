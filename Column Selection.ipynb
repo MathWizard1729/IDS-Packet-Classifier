{
 "cells": [
  {
   "cell_type": "code",
   "execution_count": 1,
   "id": "0d92d762-07ad-40ba-ab3d-ad9666d5d784",
   "metadata": {},
   "outputs": [
    {
     "name": "stderr",
     "output_type": "stream",
     "text": [
      "/usr/lib/python3/dist-packages/scipy/__init__.py:146: UserWarning: A NumPy version >=1.17.3 and <1.25.0 is required for this version of SciPy (detected version 1.26.4\n",
      "  warnings.warn(f\"A NumPy version >={np_minversion} and <{np_maxversion}\"\n"
     ]
    }
   ],
   "source": [
    "import numpy as np\n",
    "import pandas as pd\n",
    "import seaborn as sns\n",
    "import matplotlib.pyplot as  plt"
   ]
  },
  {
   "cell_type": "code",
   "execution_count": 6,
   "id": "5c209a72-0fe5-499b-93c0-391275068f56",
   "metadata": {},
   "outputs": [
    {
     "data": {
      "text/html": [
       "<div>\n",
       "<style scoped>\n",
       "    .dataframe tbody tr th:only-of-type {\n",
       "        vertical-align: middle;\n",
       "    }\n",
       "\n",
       "    .dataframe tbody tr th {\n",
       "        vertical-align: top;\n",
       "    }\n",
       "\n",
       "    .dataframe thead th {\n",
       "        text-align: right;\n",
       "    }\n",
       "</style>\n",
       "<table border=\"1\" class=\"dataframe\">\n",
       "  <thead>\n",
       "    <tr style=\"text-align: right;\">\n",
       "      <th></th>\n",
       "      <th>Feature</th>\n",
       "      <th>Notebook</th>\n",
       "      <th>Importance</th>\n",
       "    </tr>\n",
       "  </thead>\n",
       "  <tbody>\n",
       "    <tr>\n",
       "      <th>119</th>\n",
       "      <td>Dst Port</td>\n",
       "      <td>Notebook_8</td>\n",
       "      <td>908.0</td>\n",
       "    </tr>\n",
       "    <tr>\n",
       "      <th>120</th>\n",
       "      <td>Dst Port</td>\n",
       "      <td>Notebook_9</td>\n",
       "      <td>801.0</td>\n",
       "    </tr>\n",
       "    <tr>\n",
       "      <th>175</th>\n",
       "      <td>Flow IAT Min</td>\n",
       "      <td>Notebook_9</td>\n",
       "      <td>690.0</td>\n",
       "    </tr>\n",
       "    <tr>\n",
       "      <th>173</th>\n",
       "      <td>Flow IAT Min</td>\n",
       "      <td>Notebook_7</td>\n",
       "      <td>521.0</td>\n",
       "    </tr>\n",
       "    <tr>\n",
       "      <th>355</th>\n",
       "      <td>Init Fwd Win Byts</td>\n",
       "      <td>Notebook_9</td>\n",
       "      <td>500.0</td>\n",
       "    </tr>\n",
       "    <tr>\n",
       "      <th>...</th>\n",
       "      <td>...</td>\n",
       "      <td>...</td>\n",
       "      <td>...</td>\n",
       "    </tr>\n",
       "    <tr>\n",
       "      <th>368</th>\n",
       "      <td>Pkt Len Mean</td>\n",
       "      <td>Notebook_10</td>\n",
       "      <td>1.0</td>\n",
       "    </tr>\n",
       "    <tr>\n",
       "      <th>268</th>\n",
       "      <td>Fwd Pkt Len Max</td>\n",
       "      <td>Notebook_5</td>\n",
       "      <td>1.0</td>\n",
       "    </tr>\n",
       "    <tr>\n",
       "      <th>195</th>\n",
       "      <td>Fwd Act Data Pkts</td>\n",
       "      <td>Notebook_1</td>\n",
       "      <td>1.0</td>\n",
       "    </tr>\n",
       "    <tr>\n",
       "      <th>363</th>\n",
       "      <td>Pkt Len Max</td>\n",
       "      <td>Notebook_4</td>\n",
       "      <td>1.0</td>\n",
       "    </tr>\n",
       "    <tr>\n",
       "      <th>225</th>\n",
       "      <td>Fwd IAT Mean</td>\n",
       "      <td>Notebook_1</td>\n",
       "      <td>1.0</td>\n",
       "    </tr>\n",
       "  </tbody>\n",
       "</table>\n",
       "<p>450 rows × 3 columns</p>\n",
       "</div>"
      ],
      "text/plain": [
       "               Feature     Notebook  Importance\n",
       "119           Dst Port   Notebook_8       908.0\n",
       "120           Dst Port   Notebook_9       801.0\n",
       "175       Flow IAT Min   Notebook_9       690.0\n",
       "173       Flow IAT Min   Notebook_7       521.0\n",
       "355  Init Fwd Win Byts   Notebook_9       500.0\n",
       "..                 ...          ...         ...\n",
       "368       Pkt Len Mean  Notebook_10         1.0\n",
       "268    Fwd Pkt Len Max   Notebook_5         1.0\n",
       "195  Fwd Act Data Pkts   Notebook_1         1.0\n",
       "363        Pkt Len Max   Notebook_4         1.0\n",
       "225       Fwd IAT Mean   Notebook_1         1.0\n",
       "\n",
       "[450 rows x 3 columns]"
      ]
     },
     "execution_count": 6,
     "metadata": {},
     "output_type": "execute_result"
    }
   ],
   "source": [
    "dfs = []\n",
    "\n",
    "# Loop to read and process each CSV file\n",
    "for i in range(10):  # Adjust range based on the number of files (here 10 for 10 files)\n",
    "    # File name: File01_XG.csv, File02_XG.csv, ..., File09_XG.csv\n",
    "    file_name = f\"File0{i+1}_XG.csv\"\n",
    "    \n",
    "    # Read the CSV file\n",
    "    df = pd.read_csv(file_name)\n",
    "    \n",
    "    # Standardize column names to 'Feature' and 'Importance'\n",
    "    df.columns = ['Feature', 'Importance']\n",
    "    \n",
    "    # Add a column to indicate which file the data came from\n",
    "    df['Notebook'] = f\"Notebook_{i+1}\"\n",
    "    \n",
    "    # Append the dataframe to the list\n",
    "    dfs.append(df)\n",
    "\n",
    "# Concatenate all DataFrames into one\n",
    "final_df = pd.concat(dfs, ignore_index=True)\n",
    "\n",
    "# Optionally: Group by 'Feature' and sum the importance values\n",
    "grouped_df = final_df.groupby(['Feature', 'Notebook'], as_index=False).agg({'Importance': 'sum'})\n",
    "\n",
    "# Optionally: Sort the result by importance in descending order\n",
    "grouped_df = grouped_df.sort_values(by='Importance', ascending=False)\n",
    "\n",
    "# Display the final grouped DataFrame\n",
    "grouped_df"
   ]
  },
  {
   "cell_type": "code",
   "execution_count": 8,
   "id": "b02738b2-3bc9-479b-a8ed-c076fc4366b4",
   "metadata": {},
   "outputs": [
    {
     "data": {
      "text/html": [
       "<div>\n",
       "<style scoped>\n",
       "    .dataframe tbody tr th:only-of-type {\n",
       "        vertical-align: middle;\n",
       "    }\n",
       "\n",
       "    .dataframe tbody tr th {\n",
       "        vertical-align: top;\n",
       "    }\n",
       "\n",
       "    .dataframe thead th {\n",
       "        text-align: right;\n",
       "    }\n",
       "</style>\n",
       "<table border=\"1\" class=\"dataframe\">\n",
       "  <thead>\n",
       "    <tr style=\"text-align: right;\">\n",
       "      <th></th>\n",
       "      <th>Feature</th>\n",
       "      <th>Notebook</th>\n",
       "      <th>Importance</th>\n",
       "    </tr>\n",
       "  </thead>\n",
       "  <tbody>\n",
       "    <tr>\n",
       "      <th>119</th>\n",
       "      <td>Dst Port</td>\n",
       "      <td>Notebook_8</td>\n",
       "      <td>908.0</td>\n",
       "    </tr>\n",
       "    <tr>\n",
       "      <th>120</th>\n",
       "      <td>Dst Port</td>\n",
       "      <td>Notebook_9</td>\n",
       "      <td>801.0</td>\n",
       "    </tr>\n",
       "    <tr>\n",
       "      <th>175</th>\n",
       "      <td>Flow IAT Min</td>\n",
       "      <td>Notebook_9</td>\n",
       "      <td>690.0</td>\n",
       "    </tr>\n",
       "    <tr>\n",
       "      <th>173</th>\n",
       "      <td>Flow IAT Min</td>\n",
       "      <td>Notebook_7</td>\n",
       "      <td>521.0</td>\n",
       "    </tr>\n",
       "    <tr>\n",
       "      <th>355</th>\n",
       "      <td>Init Fwd Win Byts</td>\n",
       "      <td>Notebook_9</td>\n",
       "      <td>500.0</td>\n",
       "    </tr>\n",
       "  </tbody>\n",
       "</table>\n",
       "</div>"
      ],
      "text/plain": [
       "               Feature    Notebook  Importance\n",
       "119           Dst Port  Notebook_8       908.0\n",
       "120           Dst Port  Notebook_9       801.0\n",
       "175       Flow IAT Min  Notebook_9       690.0\n",
       "173       Flow IAT Min  Notebook_7       521.0\n",
       "355  Init Fwd Win Byts  Notebook_9       500.0"
      ]
     },
     "execution_count": 8,
     "metadata": {},
     "output_type": "execute_result"
    }
   ],
   "source": [
    "grouped_df.reset_index()\n",
    "grouped_df.head()"
   ]
  },
  {
   "cell_type": "code",
   "execution_count": 16,
   "id": "badbe8e4-2fe7-4cc9-a421-f48985399a01",
   "metadata": {},
   "outputs": [
    {
     "data": {
      "text/plain": [
       "Feature\n",
       "Dst Port             True\n",
       "ACK Flag Cnt         True\n",
       "Flow IAT Min         True\n",
       "Fwd Pkts/s           True\n",
       "Fwd Header Len       True\n",
       "                    ...  \n",
       "Fwd PSH Flags       False\n",
       "Fwd URG Flags       False\n",
       "Bwd Pkt Len Min     False\n",
       "Src Port            False\n",
       "Subflow Bwd Byts    False\n",
       "Name: count, Length: 63, dtype: bool"
      ]
     },
     "execution_count": 16,
     "metadata": {},
     "output_type": "execute_result"
    }
   ],
   "source": [
    "grouped_df['Feature'].value_counts() >= 9"
   ]
  },
  {
   "cell_type": "code",
   "execution_count": 16,
   "id": "70780110-dafa-44dd-b951-21e86312642d",
   "metadata": {},
   "outputs": [
    {
     "data": {
      "text/plain": [
       "['Dst Port',\n",
       " 'Flow IAT Min',\n",
       " 'Init Fwd Win Byts',\n",
       " 'Flow Duration',\n",
       " 'Fwd IAT Min',\n",
       " 'Bwd IAT Min',\n",
       " 'Init Bwd Win Byts',\n",
       " 'Flow IAT Std',\n",
       " 'Fwd IAT Tot',\n",
       " 'Flow IAT Mean',\n",
       " 'Flow IAT Max',\n",
       " 'Flow Pkts/s',\n",
       " 'TotLen Fwd Pkts',\n",
       " 'Fwd IAT Mean',\n",
       " 'Fwd Pkts/s',\n",
       " 'Fwd IAT Max',\n",
       " 'Fwd Pkt Len Std',\n",
       " 'Fwd Pkt Len Max',\n",
       " 'Pkt Size Avg',\n",
       " 'Fwd Header Len',\n",
       " 'Tot Fwd Pkts',\n",
       " 'Fwd Act Data Pkts',\n",
       " 'ACK Flag Cnt']"
      ]
     },
     "execution_count": 16,
     "metadata": {},
     "output_type": "execute_result"
    }
   ],
   "source": [
    "feature_counts = grouped_df['Feature'].value_counts()\n",
    "valid_features = feature_counts[feature_counts >= 9].index\n",
    "filtered_df = grouped_df[grouped_df['Feature'].isin(valid_features)]\n",
    "features_to_select = filtered_df['Feature'].unique().tolist()\n",
    "features_to_select"
   ]
  }
 ],
 "metadata": {
  "kernelspec": {
   "display_name": "Python 3 (ipykernel)",
   "language": "python",
   "name": "python3"
  },
  "language_info": {
   "codemirror_mode": {
    "name": "ipython",
    "version": 3
   },
   "file_extension": ".py",
   "mimetype": "text/x-python",
   "name": "python",
   "nbconvert_exporter": "python",
   "pygments_lexer": "ipython3",
   "version": "3.10.12"
  }
 },
 "nbformat": 4,
 "nbformat_minor": 5
}
