{
 "cells": [
  {
   "cell_type": "code",
   "execution_count": 1,
   "id": "27f126ed-fb81-455f-be39-bd6d487bd633",
   "metadata": {},
   "outputs": [
    {
     "name": "stderr",
     "output_type": "stream",
     "text": [
      "/usr/lib/python3/dist-packages/scipy/__init__.py:146: UserWarning: A NumPy version >=1.17.3 and <1.25.0 is required for this version of SciPy (detected version 1.26.4\n",
      "  warnings.warn(f\"A NumPy version >={np_minversion} and <{np_maxversion}\"\n"
     ]
    }
   ],
   "source": [
    "import pandas as pd\n",
    "import numpy as np\n",
    "import seaborn as sns\n",
    "import matplotlib.pyplot as plt\n",
    "import warnings\n",
    "warnings.filterwarnings('ignore')"
   ]
  },
  {
   "cell_type": "code",
   "execution_count": 2,
   "id": "c540cfad-692e-4756-bf9d-6636ac2661c5",
   "metadata": {},
   "outputs": [
    {
     "name": "stdout",
     "output_type": "stream",
     "text": [
      "<class 'pandas.core.frame.DataFrame'>\n",
      "RangeIndex: 3948294 entries, 0 to 3948293\n",
      "Data columns (total 16 columns):\n",
      " #   Column             Dtype \n",
      "---  ------             ----- \n",
      " 0   Dst Port           object\n",
      " 1   Flow Duration      object\n",
      " 2   Flow Pkts/s        object\n",
      " 3   Flow IAT Mean      object\n",
      " 4   Flow IAT Max       object\n",
      " 5   Flow IAT Min       object\n",
      " 6   Fwd IAT Min        object\n",
      " 7   Bwd IAT Min        object\n",
      " 8   Fwd Header Len     object\n",
      " 9   Fwd Pkts/s         object\n",
      " 10  Bwd Pkts/s         object\n",
      " 11  ACK Flag Cnt       object\n",
      " 12  Init Fwd Win Byts  object\n",
      " 13  Init Bwd Win Byts  object\n",
      " 14  Fwd Seg Size Min   object\n",
      " 15  Label              object\n",
      "dtypes: object(16)\n",
      "memory usage: 482.0+ MB\n"
     ]
    }
   ],
   "source": [
    "df = pd.read_csv('reduced_dataset.csv')\n",
    "df.info()"
   ]
  },
  {
   "cell_type": "code",
   "execution_count": 3,
   "id": "750ab22a-81ce-4e40-81e6-ae4a9fe37bf7",
   "metadata": {},
   "outputs": [
    {
     "data": {
      "text/plain": [
       "1200000"
      ]
     },
     "execution_count": 3,
     "metadata": {},
     "output_type": "execute_result"
    }
   ],
   "source": [
    "df[df['Label'] == 'Benign'].value_counts().sum()"
   ]
  },
  {
   "cell_type": "code",
   "execution_count": 4,
   "id": "588b70ab-8f6c-4c10-8bba-ee749e310cfa",
   "metadata": {},
   "outputs": [],
   "source": [
    "df= df.drop(df[df['Label'] == 'Benign'].index[:125643])"
   ]
  },
  {
   "cell_type": "code",
   "execution_count": 5,
   "id": "d8e48df8-ae99-4b7b-a590-d6b7ae0ac131",
   "metadata": {},
   "outputs": [
    {
     "data": {
      "text/plain": [
       "Label\n",
       "Benign                      1074357\n",
       "DDOS attack-HOIC             686012\n",
       "DDoS attacks-LOIC-HTTP       576191\n",
       "DoS attacks-Hulk             461912\n",
       "Bot                          286191\n",
       "FTP-BruteForce               193360\n",
       "SSH-Bruteforce               187589\n",
       "Infilteration                161934\n",
       "DoS attacks-SlowHTTPTest     139890\n",
       "DoS attacks-GoldenEye         41508\n",
       "DoS attacks-Slowloris         10990\n",
       "DDOS attack-LOIC-UDP           1730\n",
       "Brute Force -Web                611\n",
       "Brute Force -XSS                230\n",
       "SQL Injection                    87\n",
       "Label                            59\n",
       "Name: count, dtype: int64"
      ]
     },
     "execution_count": 5,
     "metadata": {},
     "output_type": "execute_result"
    }
   ],
   "source": [
    "df['Label'].value_counts()"
   ]
  },
  {
   "cell_type": "code",
   "execution_count": 6,
   "id": "6a1f0491-32d6-4540-a7db-bd9eb4e30101",
   "metadata": {},
   "outputs": [],
   "source": [
    "df.to_csv('reduced_dataset_02.csv', index = False)"
   ]
  },
  {
   "cell_type": "code",
   "execution_count": null,
   "id": "f47a05bb-5160-4e0b-94bb-610ed2cf94fb",
   "metadata": {},
   "outputs": [],
   "source": []
  }
 ],
 "metadata": {
  "kernelspec": {
   "display_name": "Python 3 (ipykernel)",
   "language": "python",
   "name": "python3"
  },
  "language_info": {
   "codemirror_mode": {
    "name": "ipython",
    "version": 3
   },
   "file_extension": ".py",
   "mimetype": "text/x-python",
   "name": "python",
   "nbconvert_exporter": "python",
   "pygments_lexer": "ipython3",
   "version": "3.10.12"
  }
 },
 "nbformat": 4,
 "nbformat_minor": 5
}
